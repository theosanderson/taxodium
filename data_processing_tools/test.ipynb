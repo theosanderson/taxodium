{
 "cells": [
  {
   "cell_type": "code",
   "execution_count": 8,
   "metadata": {},
   "outputs": [
    {
     "name": "stdout",
     "output_type": "stream",
     "text": [
      "Requirement already satisfied: treeswift in /home/theo/miniconda3/envs/nextstrain/lib/python3.8/site-packages (from -r requirements.txt (line 1)) (1.1.20)\n",
      "Collecting alive-progress\n",
      "  Using cached alive_progress-2.4.1-py3-none-any.whl (80 kB)\n",
      "Requirement already satisfied: chronumental in /home/theo/miniconda3/envs/nextstrain/lib/python3.8/site-packages (from -r requirements.txt (line 3)) (0.0.48)\n",
      "Requirement already satisfied: biopython in /home/theo/miniconda3/envs/nextstrain/lib/python3.8/site-packages (from -r requirements.txt (line 4)) (1.78)\n",
      "Collecting grapheme==0.6.0\n",
      "  Using cached grapheme-0.6.0.tar.gz (207 kB)\n",
      "Collecting about-time==3.1.1\n",
      "  Using cached about_time-3.1.1-py3-none-any.whl (9.1 kB)\n",
      "Requirement already satisfied: numpy in /home/theo/miniconda3/envs/nextstrain/lib/python3.8/site-packages (from biopython->-r requirements.txt (line 4)) (1.20.1)\n",
      "Requirement already satisfied: xopen in /home/theo/miniconda3/envs/nextstrain/lib/python3.8/site-packages (from chronumental->-r requirements.txt (line 3)) (1.2.1)\n",
      "Requirement already satisfied: scipy in /home/theo/miniconda3/envs/nextstrain/lib/python3.8/site-packages (from chronumental->-r requirements.txt (line 3)) (1.6.0)\n",
      "Requirement already satisfied: pandas in /home/theo/miniconda3/envs/nextstrain/lib/python3.8/site-packages (from chronumental->-r requirements.txt (line 3)) (1.2.2)\n",
      "Requirement already satisfied: tqdm in /home/theo/miniconda3/envs/nextstrain/lib/python3.8/site-packages (from chronumental->-r requirements.txt (line 3)) (4.56.2)\n",
      "Requirement already satisfied: numpyro==0.9.0 in /home/theo/miniconda3/envs/nextstrain/lib/python3.8/site-packages (from chronumental->-r requirements.txt (line 3)) (0.9.0)\n",
      "Requirement already satisfied: jax>=0.2.13 in /home/theo/miniconda3/envs/nextstrain/lib/python3.8/site-packages (from numpyro==0.9.0->chronumental->-r requirements.txt (line 3)) (0.2.24)\n",
      "Requirement already satisfied: multipledispatch in /home/theo/miniconda3/envs/nextstrain/lib/python3.8/site-packages (from numpyro==0.9.0->chronumental->-r requirements.txt (line 3)) (0.6.0)\n",
      "Requirement already satisfied: jaxlib>=0.1.65 in /home/theo/miniconda3/envs/nextstrain/lib/python3.8/site-packages (from numpyro==0.9.0->chronumental->-r requirements.txt (line 3)) (0.1.73)\n",
      "Requirement already satisfied: typing-extensions in /home/theo/miniconda3/envs/nextstrain/lib/python3.8/site-packages (from jax>=0.2.13->numpyro==0.9.0->chronumental->-r requirements.txt (line 3)) (3.7.4.3)\n",
      "Requirement already satisfied: absl-py in /home/theo/miniconda3/envs/nextstrain/lib/python3.8/site-packages (from jax>=0.2.13->numpyro==0.9.0->chronumental->-r requirements.txt (line 3)) (0.11.0)\n",
      "Requirement already satisfied: opt-einsum in /home/theo/miniconda3/envs/nextstrain/lib/python3.8/site-packages (from jax>=0.2.13->numpyro==0.9.0->chronumental->-r requirements.txt (line 3)) (3.3.0)\n",
      "Requirement already satisfied: flatbuffers<3.0,>=1.12 in /home/theo/miniconda3/envs/nextstrain/lib/python3.8/site-packages (from jaxlib>=0.1.65->numpyro==0.9.0->chronumental->-r requirements.txt (line 3)) (1.12)\n",
      "Requirement already satisfied: six in /home/theo/miniconda3/envs/nextstrain/lib/python3.8/site-packages (from absl-py->jax>=0.2.13->numpyro==0.9.0->chronumental->-r requirements.txt (line 3)) (1.15.0)\n",
      "Requirement already satisfied: python-dateutil>=2.7.3 in /home/theo/miniconda3/envs/nextstrain/lib/python3.8/site-packages (from pandas->chronumental->-r requirements.txt (line 3)) (2.8.1)\n",
      "Requirement already satisfied: pytz>=2017.3 in /home/theo/miniconda3/envs/nextstrain/lib/python3.8/site-packages (from pandas->chronumental->-r requirements.txt (line 3)) (2021.1)\n",
      "Requirement already satisfied: isal>=0.9.0 in /home/theo/miniconda3/envs/nextstrain/lib/python3.8/site-packages (from xopen->chronumental->-r requirements.txt (line 3)) (0.11.1)\n",
      "Building wheels for collected packages: grapheme\n",
      "  Building wheel for grapheme (setup.py) ... \u001b[?25ldone\n",
      "\u001b[?25h  Created wheel for grapheme: filename=grapheme-0.6.0-py3-none-any.whl size=210097 sha256=e20d50745cc0807014fb125930147bf35c84a82d8498bbc9f20fc61a9456ca9e\n",
      "  Stored in directory: /home/theo/.cache/pip/wheels/2d/08/6b/126ea9009f7482fd53a78d0db2ece5aca70af8f4a30445386b\n",
      "Successfully built grapheme\n",
      "Installing collected packages: grapheme, about-time, alive-progress\n",
      "Successfully installed about-time-3.1.1 alive-progress-2.4.1 grapheme-0.6.0\n"
     ]
    }
   ],
   "source": [
    "!pip install -r requirements.txt"
   ]
  },
  {
   "cell_type": "code",
   "execution_count": 37,
   "metadata": {},
   "outputs": [
    {
     "name": "stdout",
     "output_type": "stream",
     "text": [
      "Reading condensed nodes dict |████████████████████████████████████████| 471/471 [100%] in 0.0s (24587.34/s)             \n",
      "Loading tree\n",
      "Annotating nuc muts |████████████████████████████████████████| (!) 2849 in 0.0s (114785.08/s) \n",
      "Expanding condensed nodes |████████████████████████████████████████| (!) 3604 in 0.1s (38369.65/s) \n",
      "Setting branch length |████████████████████████████████████████| (!) 4531 in 0.0s (179422.81/s) \n",
      "|████████████████████████████████████████| 4531/4531 [100%] in 0.1s (70589.85/s)                                        \n",
      "Launching chronumental\n",
      "Reading time tree\n",
      "Adding time tree |████████████████████████████████████████| (!) 4531 in 0.0s (170379.34/s) \n"
     ]
    }
   ],
   "source": [
    "import json\n",
    "import pandas as pd\n",
    "from alive_progress import config_handler, alive_it\n",
    "\n",
    "config_handler.set_global(force_tty=True)\n",
    "\n",
    "import ushertools\n",
    "f = open(\"tfci.pb\", \"rb\")\n",
    "f2 = \"./hu1.gb\"\n",
    "mat = ushertools.UsherMutationAnnotatedTree(f,f2)\n",
    "\n",
    "mat.tree.write_tree_newick(\"/tmp/distance_tree.nwk\")\n",
    "\n",
    "print(\"Launching chronumental\")\n",
    "import os\n",
    "\n",
    "os.system(\n",
    "    \"chronumental --tree /tmp/distance_tree.nwk --dates ./tfci.meta.tsv.gz --steps 140 --tree_out /tmp/timetree.nwk --dates_out ./date_comparison.tsv.gz\"\n",
    ")\n",
    "\n",
    "# %%\n",
    "import treeswift\n",
    "print(\"Reading time tree\")\n",
    "time_tree = treeswift.read_tree(\"/tmp/timetree.nwk\", schema=\"newick\")\n",
    "time_tree_iter = ushertools.preorder_traversal(time_tree.root)\n",
    "for i, node in alive_it(enumerate(ushertools.preorder_traversal(mat.tree.root)),\n",
    "                         title=\"Adding time tree\"):\n",
    "    time_tree_node = next(time_tree_iter)\n",
    "    node.time_length = time_tree_node.edge_length\n",
    "del time_tree\n",
    "del time_tree_iter\n"
   ]
  },
  {
   "cell_type": "code",
   "execution_count": 38,
   "metadata": {},
   "outputs": [],
   "source": [
    "\n",
    "def set_x_coords(root):\n",
    "    \"\"\" Set x coordinates for the tree\"\"\"\n",
    "    root.x_dist = 0\n",
    "    root.x_time = 0\n",
    "    for node in root.traverse_preorder():\n",
    "        if node.parent:\n",
    "            node.x_dist = node.parent.x_dist + node.edge_length\n",
    "            node.x_time = node.parent.x_time + node.time_length\n",
    "\n",
    "def set_terminal_y_coords(root):\n",
    "    for i, node in enumerate(root.traverse_leaves()):\n",
    "        node.y = i\n",
    "\n",
    "def set_internal_y_coords(root):\n",
    "    # Each node should be halfway between the min and max y of its children\n",
    "    for node in root.traverse_postorder(leaves =False, internal=True):\n",
    "\n",
    "        child_ys = [child.y for child in node.children]\n",
    "        node.y = (min(child_ys) + max(child_ys)) / 2\n",
    "        print(child_ys, node.y)\n",
    "\n",
    "\n",
    "def get_all_aa_muts(root):\n",
    "    all_aa_muts = set()\n",
    "    for node in root.traverse_preorder():\n",
    "        if node.aa_muts:\n",
    "            all_aa_muts.update(node.aa_muts)\n",
    "    return list(all_aa_muts)\n",
    "\n",
    "def make_aa_object(i, aa_tuple):\n",
    "    # Tuple format is gene, position, prev, next\n",
    "    gene, pos, prev, next = aa_tuple\n",
    "    return {\n",
    "        \"gene\":gene,\n",
    "        \"previous_residue\": prev,\n",
    "        \"residue_pos\": pos,\n",
    "        \"new_residue\": next,\n",
    "        \"mutation_id\": i,\n",
    "      }\n",
    "\n",
    "def get_node_object(node, node_to_index, metadata, aa_mut_tuple_to_index):\n",
    "    \n",
    "    object = {}\n",
    "    object[\"name\"] = node.label if node.label else \"\"\n",
    "    object[\"x_dist\"] = node.x_dist\n",
    "    object[\"x_time\"] = node.x_time\n",
    "    object[\"y\"] = node.y\n",
    "    object['mutations'] = [aa_mut_tuple_to_index[aa_tuple] for aa_tuple in node.aa_muts]\n",
    "    if node.label:\n",
    "        metadata_row = metadata.loc[node.label]\n",
    "        for key in metadata_row.index:\n",
    "            value = metadata_row[key]\n",
    "            #if value is pd.NaN then set to empty string\n",
    "            if pd.isna(value):\n",
    "                value = \"\"\n",
    "            object[\"meta_\"+key] = value\n",
    "    else:\n",
    "        for key in metadata.columns:\n",
    "            object[\"meta_\"+key] = \"\"\n",
    "    object['parent'] = node_to_index[node.parent] if node.parent else node_to_index[node]\n",
    "    object['node_id'] = node_to_index[node]\n",
    "    return object\n",
    "\n",
    "\n",
    "\n",
    "mat.tree.ladderize(ascending=False)\n",
    "set_x_coords(mat.tree.root)\n",
    "set_terminal_y_coords(mat.tree.root)\n",
    "set_internal_y_coords(mat.tree.root)\n",
    "nodes_sorted_by_y = sorted(mat.tree.root.traverse_preorder(), key=lambda x: x.y)\n",
    "all_aa_muts_tuples = get_all_aa_muts(mat.tree.root)\n",
    "all_aa_muts_objects = [make_aa_object(i, aa_tuple) for i, aa_tuple in enumerate(all_aa_muts_tuples)]\n",
    "aa_mut_tuple_to_index = {aa_tuple: i for i, aa_tuple in enumerate(all_aa_muts_tuples)}\n",
    "first_json = {\n",
    "    \"aa_mutations\": all_aa_muts_objects,\n",
    "}\n",
    "node_to_index = {node: i for i, node in enumerate(nodes_sorted_by_y)}\n",
    "\n",
    "cols_of_interest = [\"strain\",\"genbank_accession\", \"country\", \"date\", \"pangolin_lineage\"]\n",
    "\n",
    "#only load these cols:\n",
    "metadata = pd.read_csv(\"./tfci.meta.tsv.gz\", sep=\"\\t\", usecols=cols_of_interest)\n",
    "metadata.set_index(\"strain\", inplace=True)\n",
    "\n",
    "output_file = open(\"tfci.jsonl\", \"wt\")\n",
    "output_file.write(json.dumps(first_json) + \"\\n\")\n",
    "for node in nodes_sorted_by_y:\n",
    "    node_object = get_node_object(node, node_to_index, metadata, aa_mut_tuple_to_index)\n",
    "    output_file.write(json.dumps(node_object) + \"\\n\")\n",
    "\n",
    "\n",
    "\n"
   ]
  },
  {
   "cell_type": "code",
   "execution_count": 32,
   "metadata": {},
   "outputs": [
    {
     "data": {
      "text/plain": [
       "genbank_accession           NaN\n",
       "date                 2020-04-03\n",
       "country                 England\n",
       "pangolin_lineage            B.3\n",
       "Name: England/TFCI-2707EC6/2020|2020-04-03, dtype: object"
      ]
     },
     "execution_count": 32,
     "metadata": {},
     "output_type": "execute_result"
    }
   ],
   "source": [
    "metadata.loc['England/TFCI-2707EC6/2020|2020-04-03']"
   ]
  },
  {
   "cell_type": "code",
   "execution_count": 25,
   "metadata": {},
   "outputs": [
    {
     "data": {
      "text/plain": [
       "genbank_accession                NaN\n",
       "date                      2020-05-11\n",
       "country                      England\n",
       "host                             NaN\n",
       "completeness                     NaN\n",
       "length                           NaN\n",
       "Nextstrain_clade                 20B\n",
       "pangolin_lineage               B.1.1\n",
       "Nextstrain_clade_usher           20B\n",
       "pango_lineage_usher            B.1.1\n",
       "Name: England/TFCI-26F9596/2020|2020-05-11, dtype: object"
      ]
     },
     "execution_count": 25,
     "metadata": {},
     "output_type": "execute_result"
    }
   ],
   "source": [
    "row"
   ]
  },
  {
   "cell_type": "code",
   "execution_count": null,
   "metadata": {},
   "outputs": [],
   "source": []
  }
 ],
 "metadata": {
  "kernelspec": {
   "display_name": "nextstrain",
   "language": "python",
   "name": "nextstrain"
  },
  "language_info": {
   "codemirror_mode": {
    "name": "ipython",
    "version": 3
   },
   "file_extension": ".py",
   "mimetype": "text/x-python",
   "name": "python",
   "nbconvert_exporter": "python",
   "pygments_lexer": "ipython3",
   "version": "3.8.6"
  },
  "orig_nbformat": 4
 },
 "nbformat": 4,
 "nbformat_minor": 2
}
