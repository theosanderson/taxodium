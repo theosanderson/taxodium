{
 "cells": [
  {
   "cell_type": "code",
   "execution_count": 85,
   "metadata": {},
   "outputs": [],
   "source": [
    "# Best approach: create and cache a series of more and more sparsified values, each sorted by y, when needed just cut out the y section and supply it\n",
    "\n",
    "import pandas\n",
    "import numpy as np\n",
    "\n",
    "database_loc = \"./database/database.feather\"\n",
    "\n",
    "database = pandas.read_feather(database_loc)\n",
    "database.set_index(\"node_id\", inplace=True)\n",
    "\n",
    "database['y'] = database['y'] * 20  #* 10000000000\n",
    "database['x'] = database['x'] * 45  #* 1000 * 2**10\n"
   ]
  },
  {
   "cell_type": "code",
   "execution_count": 86,
   "metadata": {},
   "outputs": [],
   "source": [
    "as_np = database.values"
   ]
  },
  {
   "cell_type": "code",
   "execution_count": 92,
   "metadata": {},
   "outputs": [],
   "source": [
    "just = as_np[:,0:2]\n",
    "# force to int32\n",
    "just = just.astype(np.int32)"
   ]
  },
  {
   "cell_type": "code",
   "execution_count": 90,
   "metadata": {},
   "outputs": [],
   "source": [
    "def get_unique(x):\n",
    "    x2 = np.ascontiguousarray(x).view(np.dtype((np.void, x.dtype.itemsize * x.shape[1])))\n",
    "    y_temp, z = np.unique(x2, return_inverse=True)\n",
    "    y = y_temp.view(dtype='int64').reshape(len(y_temp), 2)"
   ]
  },
  {
   "cell_type": "code",
   "execution_count": 101,
   "metadata": {},
   "outputs": [
    {
     "name": "stdout",
     "output_type": "stream",
     "text": [
      "CPU times: user 2.46 s, sys: 49.3 ms, total: 2.51 s\n",
      "Wall time: 2.49 s\n"
     ]
    },
    {
     "data": {
      "text/plain": [
       "array([   3677,   64464,       0, ...,   21583, 1484745, 2302460])"
      ]
     },
     "execution_count": 101,
     "metadata": {},
     "output_type": "execute_result"
    }
   ],
   "source": [
    "just2 = just.round(2)\n",
    "%time uniqued = np.unique(just2, return_index=True,axis=0) \n",
    "uniqued[1]"
   ]
  },
  {
   "cell_type": "code",
   "execution_count": 109,
   "metadata": {},
   "outputs": [
    {
     "name": "stdout",
     "output_type": "stream",
     "text": [
      "CPU times: user 15.7 ms, sys: 10.9 ms, total: 26.6 ms\n",
      "Wall time: 26.6 ms\n",
      "CPU times: user 27.3 ms, sys: 0 ns, total: 27.3 ms\n",
      "Wall time: 27.1 ms\n"
     ]
    }
   ],
   "source": [
    "import pandas\n",
    "import numpy as np\n",
    "\n",
    "database_loc = \"./database/database.feather\"\n",
    "\n",
    "database = pandas.read_feather(database_loc)\n",
    "database.set_index(\"node_id\", inplace=True)\n",
    "\n",
    "database['y'] = database['y'] * 20  #* 10000000000\n",
    "database['x'] = database['x'] * 45  #* 1000 * 2**10\n",
    "\n",
    "%time database['x'] = database.x.round(2)\n",
    "%time database['y'] = database.y.round(2)"
   ]
  },
  {
   "cell_type": "code",
   "execution_count": 114,
   "metadata": {},
   "outputs": [
    {
     "name": "stdout",
     "output_type": "stream",
     "text": [
      "CPU times: user 229 ms, sys: 0 ns, total: 229 ms\n",
      "Wall time: 227 ms\n"
     ]
    }
   ],
   "source": [
    "import pandas as pd\n",
    "%time b= database.drop_duplicates(subset=['x','y'], keep='first', inplace=False)"
   ]
  },
  {
   "cell_type": "code",
   "execution_count": 116,
   "metadata": {},
   "outputs": [
    {
     "name": "stdout",
     "output_type": "stream",
     "text": [
      "CPU times: user 233 ms, sys: 8.77 ms, total: 241 ms\n",
      "Wall time: 239 ms\n"
     ]
    }
   ],
   "source": [
    "%%time\n",
    "for x in database.x:\n",
    "    pass"
   ]
  },
  {
   "cell_type": "code",
   "execution_count": null,
   "metadata": {},
   "outputs": [],
   "source": []
  }
 ],
 "metadata": {
  "interpreter": {
   "hash": "8821d7f84e5f864258c5283e62ae6aaab0456535650f64f3442056db9c4ebffa"
  },
  "kernelspec": {
   "display_name": "Python 3.9.7 64-bit ('myenv': conda)",
   "language": "python",
   "name": "python3"
  },
  "language_info": {
   "codemirror_mode": {
    "name": "ipython",
    "version": 3
   },
   "file_extension": ".py",
   "mimetype": "text/x-python",
   "name": "python",
   "nbconvert_exporter": "python",
   "pygments_lexer": "ipython3",
   "version": "3.9.7"
  },
  "orig_nbformat": 4
 },
 "nbformat": 4,
 "nbformat_minor": 2
}
