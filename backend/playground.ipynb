{
 "cells": [
  {
   "cell_type": "code",
   "execution_count": 1,
   "metadata": {},
   "outputs": [],
   "source": [
    "# Best approach: create and cache a series of more and more sparsified values, each sorted by y, when needed just cut out the y section and supply it\n",
    "\n",
    "import pandas\n",
    "import numpy as np\n",
    "\n",
    "database_loc = \"./database/database.feather\"\n",
    "\n",
    "database = pandas.read_feather(database_loc)\n",
    "database.set_index(\"node_id\", inplace=True)\n",
    "\n",
    "database['y'] = database['y'] * 20  #* 10000000000\n",
    "database['x'] = database['x'] * 45  #* 1000 * 2**10\n"
   ]
  },
  {
   "cell_type": "code",
   "execution_count": 2,
   "metadata": {},
   "outputs": [
    {
     "data": {
      "text/html": [
       "<div>\n",
       "<style scoped>\n",
       "    .dataframe tbody tr th:only-of-type {\n",
       "        vertical-align: middle;\n",
       "    }\n",
       "\n",
       "    .dataframe tbody tr th {\n",
       "        vertical-align: top;\n",
       "    }\n",
       "\n",
       "    .dataframe thead th {\n",
       "        text-align: right;\n",
       "    }\n",
       "</style>\n",
       "<table border=\"1\" class=\"dataframe\">\n",
       "  <thead>\n",
       "    <tr style=\"text-align: right;\">\n",
       "      <th></th>\n",
       "      <th>x</th>\n",
       "      <th>y</th>\n",
       "      <th>parent_id</th>\n",
       "      <th>num_tips</th>\n",
       "      <th>name</th>\n",
       "      <th>meta_Country</th>\n",
       "      <th>meta_Lineage</th>\n",
       "    </tr>\n",
       "    <tr>\n",
       "      <th>node_id</th>\n",
       "      <th></th>\n",
       "      <th></th>\n",
       "      <th></th>\n",
       "      <th></th>\n",
       "      <th></th>\n",
       "      <th></th>\n",
       "      <th></th>\n",
       "    </tr>\n",
       "  </thead>\n",
       "  <tbody>\n",
       "    <tr>\n",
       "      <th>0</th>\n",
       "      <td>6.750000</td>\n",
       "      <td>0.000000</td>\n",
       "      <td>64464</td>\n",
       "      <td>1</td>\n",
       "      <td>AUS/NT49/2020</td>\n",
       "      <td>Australia</td>\n",
       "      <td>B</td>\n",
       "    </tr>\n",
       "    <tr>\n",
       "      <th>1</th>\n",
       "      <td>6.750000</td>\n",
       "      <td>0.000333</td>\n",
       "      <td>64464</td>\n",
       "      <td>1</td>\n",
       "      <td>AUS/VIC102/2020</td>\n",
       "      <td>Australia</td>\n",
       "      <td>B</td>\n",
       "    </tr>\n",
       "    <tr>\n",
       "      <th>2</th>\n",
       "      <td>6.750000</td>\n",
       "      <td>0.000667</td>\n",
       "      <td>64464</td>\n",
       "      <td>1</td>\n",
       "      <td>AUS/VIC96/2020</td>\n",
       "      <td>Australia</td>\n",
       "      <td>B</td>\n",
       "    </tr>\n",
       "    <tr>\n",
       "      <th>3</th>\n",
       "      <td>6.750000</td>\n",
       "      <td>0.001000</td>\n",
       "      <td>64464</td>\n",
       "      <td>1</td>\n",
       "      <td>CHN/Beijing-01/2020</td>\n",
       "      <td>China</td>\n",
       "      <td>B</td>\n",
       "    </tr>\n",
       "    <tr>\n",
       "      <th>4</th>\n",
       "      <td>6.750000</td>\n",
       "      <td>0.001333</td>\n",
       "      <td>64464</td>\n",
       "      <td>1</td>\n",
       "      <td>CHN/YN-0306-466/2020</td>\n",
       "      <td>China</td>\n",
       "      <td>B</td>\n",
       "    </tr>\n",
       "    <tr>\n",
       "      <th>...</th>\n",
       "      <td>...</td>\n",
       "      <td>...</td>\n",
       "      <td>...</td>\n",
       "      <td>...</td>\n",
       "      <td>...</td>\n",
       "      <td>...</td>\n",
       "      <td>...</td>\n",
       "    </tr>\n",
       "    <tr>\n",
       "      <th>4766569</th>\n",
       "      <td>330.749996</td>\n",
       "      <td>1193.064346</td>\n",
       "      <td>4766559</td>\n",
       "      <td>1</td>\n",
       "      <td>England/PHEC-3V085V42/2021</td>\n",
       "      <td>England</td>\n",
       "      <td>AY.4.2.2</td>\n",
       "    </tr>\n",
       "    <tr>\n",
       "      <th>4766570</th>\n",
       "      <td>330.749996</td>\n",
       "      <td>1193.064651</td>\n",
       "      <td>4766559</td>\n",
       "      <td>1</td>\n",
       "      <td>England/PHEC-YYB1ESF/2021</td>\n",
       "      <td>England</td>\n",
       "      <td>AY.4.2.2</td>\n",
       "    </tr>\n",
       "    <tr>\n",
       "      <th>4766571</th>\n",
       "      <td>330.749996</td>\n",
       "      <td>1193.065033</td>\n",
       "      <td>4766559</td>\n",
       "      <td>1</td>\n",
       "      <td>England/PHEC-YYB1PWR/2021</td>\n",
       "      <td>England</td>\n",
       "      <td>AY.4.2.2</td>\n",
       "    </tr>\n",
       "    <tr>\n",
       "      <th>4766572</th>\n",
       "      <td>330.749996</td>\n",
       "      <td>1193.065338</td>\n",
       "      <td>4766559</td>\n",
       "      <td>1</td>\n",
       "      <td>England/PHEC-YYBT4ZU/2021</td>\n",
       "      <td>England</td>\n",
       "      <td>AY.4.2.2</td>\n",
       "    </tr>\n",
       "    <tr>\n",
       "      <th>4766573</th>\n",
       "      <td>330.749996</td>\n",
       "      <td>1193.065643</td>\n",
       "      <td>4766559</td>\n",
       "      <td>1</td>\n",
       "      <td>Wales/PHWC-PGRUHC/2021</td>\n",
       "      <td>Wales</td>\n",
       "      <td>AY.4.2.2</td>\n",
       "    </tr>\n",
       "  </tbody>\n",
       "</table>\n",
       "<p>4766574 rows × 7 columns</p>\n",
       "</div>"
      ],
      "text/plain": [
       "                  x            y  parent_id  num_tips  \\\n",
       "node_id                                                 \n",
       "0          6.750000     0.000000      64464         1   \n",
       "1          6.750000     0.000333      64464         1   \n",
       "2          6.750000     0.000667      64464         1   \n",
       "3          6.750000     0.001000      64464         1   \n",
       "4          6.750000     0.001333      64464         1   \n",
       "...             ...          ...        ...       ...   \n",
       "4766569  330.749996  1193.064346    4766559         1   \n",
       "4766570  330.749996  1193.064651    4766559         1   \n",
       "4766571  330.749996  1193.065033    4766559         1   \n",
       "4766572  330.749996  1193.065338    4766559         1   \n",
       "4766573  330.749996  1193.065643    4766559         1   \n",
       "\n",
       "                               name meta_Country meta_Lineage  \n",
       "node_id                                                        \n",
       "0                     AUS/NT49/2020    Australia            B  \n",
       "1                   AUS/VIC102/2020    Australia            B  \n",
       "2                    AUS/VIC96/2020    Australia            B  \n",
       "3               CHN/Beijing-01/2020        China            B  \n",
       "4              CHN/YN-0306-466/2020        China            B  \n",
       "...                             ...          ...          ...  \n",
       "4766569  England/PHEC-3V085V42/2021      England     AY.4.2.2  \n",
       "4766570   England/PHEC-YYB1ESF/2021      England     AY.4.2.2  \n",
       "4766571   England/PHEC-YYB1PWR/2021      England     AY.4.2.2  \n",
       "4766572   England/PHEC-YYBT4ZU/2021      England     AY.4.2.2  \n",
       "4766573      Wales/PHWC-PGRUHC/2021        Wales     AY.4.2.2  \n",
       "\n",
       "[4766574 rows x 7 columns]"
      ]
     },
     "execution_count": 2,
     "metadata": {},
     "output_type": "execute_result"
    }
   ],
   "source": [
    "database"
   ]
  },
  {
   "cell_type": "code",
   "execution_count": 30,
   "metadata": {},
   "outputs": [
    {
     "name": "stdout",
     "output_type": "stream",
     "text": [
      "CPU times: user 23.6 ms, sys: 45.8 ms, total: 69.4 ms\n",
      "Wall time: 108 ms\n"
     ]
    }
   ],
   "source": [
    "is_usa = database['meta_Country'] == 'USA'\n",
    "indices = database.index[is_usa]\n",
    "\n",
    "new_df_of_indices = pandas.DataFrame(indices)\n",
    "new_df_of_indices.to_feather(\"/tmp/indices.feather\")\n",
    "%time new_df_of_indices = pandas.read_feather(\"/tmp/indices.feather\")"
   ]
  },
  {
   "cell_type": "code",
   "execution_count": 86,
   "metadata": {},
   "outputs": [],
   "source": [
    "import json\n",
    "cache = {}\n",
    "def matching_nodes(searchSpec):\n",
    "    json_searchSpec = json.dumps(searchSpec)\n",
    "    if json_searchSpec in cache:\n",
    "        return cache[json_searchSpec]\n",
    "    if searchSpec['type'] == \"metadata\":\n",
    "        category = searchSpec['category']\n",
    "        matches = database.loc[database[category] == searchSpec['value']]\n",
    "        indices = matches.index\n",
    "        cache[json_searchSpec] = indices"
   ]
  },
  {
   "cell_type": "code",
   "execution_count": 92,
   "metadata": {},
   "outputs": [],
   "source": [
    "just = as_np[:,0:2]\n",
    "# force to int32\n",
    "just = just.astype(np.int32)"
   ]
  },
  {
   "cell_type": "code",
   "execution_count": 90,
   "metadata": {},
   "outputs": [],
   "source": [
    "def get_unique(x):\n",
    "    x2 = np.ascontiguousarray(x).view(np.dtype((np.void, x.dtype.itemsize * x.shape[1])))\n",
    "    y_temp, z = np.unique(x2, return_inverse=True)\n",
    "    y = y_temp.view(dtype='int64').reshape(len(y_temp), 2)"
   ]
  },
  {
   "cell_type": "code",
   "execution_count": 101,
   "metadata": {},
   "outputs": [
    {
     "name": "stdout",
     "output_type": "stream",
     "text": [
      "CPU times: user 2.46 s, sys: 49.3 ms, total: 2.51 s\n",
      "Wall time: 2.49 s\n"
     ]
    },
    {
     "data": {
      "text/plain": [
       "array([   3677,   64464,       0, ...,   21583, 1484745, 2302460])"
      ]
     },
     "execution_count": 101,
     "metadata": {},
     "output_type": "execute_result"
    }
   ],
   "source": [
    "just2 = just.round(2)\n",
    "%time uniqued = np.unique(just2, return_index=True,axis=0) \n",
    "uniqued[1]"
   ]
  },
  {
   "cell_type": "code",
   "execution_count": 109,
   "metadata": {},
   "outputs": [
    {
     "name": "stdout",
     "output_type": "stream",
     "text": [
      "CPU times: user 15.7 ms, sys: 10.9 ms, total: 26.6 ms\n",
      "Wall time: 26.6 ms\n",
      "CPU times: user 27.3 ms, sys: 0 ns, total: 27.3 ms\n",
      "Wall time: 27.1 ms\n"
     ]
    }
   ],
   "source": [
    "import pandas\n",
    "import numpy as np\n",
    "\n",
    "database_loc = \"./database/database.feather\"\n",
    "\n",
    "database = pandas.read_feather(database_loc)\n",
    "database.set_index(\"node_id\", inplace=True)\n",
    "\n",
    "database['y'] = database['y'] * 20  #* 10000000000\n",
    "database['x'] = database['x'] * 45  #* 1000 * 2**10\n",
    "\n",
    "%time database['x'] = database.x.round(2)\n",
    "%time database['y'] = database.y.round(2)"
   ]
  },
  {
   "cell_type": "code",
   "execution_count": 114,
   "metadata": {},
   "outputs": [
    {
     "name": "stdout",
     "output_type": "stream",
     "text": [
      "CPU times: user 229 ms, sys: 0 ns, total: 229 ms\n",
      "Wall time: 227 ms\n"
     ]
    }
   ],
   "source": [
    "import pandas as pd\n",
    "%time b= database.drop_duplicates(subset=['x','y'], keep='first', inplace=False)"
   ]
  },
  {
   "cell_type": "code",
   "execution_count": 116,
   "metadata": {},
   "outputs": [
    {
     "name": "stdout",
     "output_type": "stream",
     "text": [
      "CPU times: user 233 ms, sys: 8.77 ms, total: 241 ms\n",
      "Wall time: 239 ms\n"
     ]
    }
   ],
   "source": [
    "%%time\n",
    "for x in database.x:\n",
    "    pass"
   ]
  },
  {
   "cell_type": "code",
   "execution_count": null,
   "metadata": {},
   "outputs": [],
   "source": []
  }
 ],
 "metadata": {
  "interpreter": {
   "hash": "8821d7f84e5f864258c5283e62ae6aaab0456535650f64f3442056db9c4ebffa"
  },
  "kernelspec": {
   "display_name": "Python 3.9.7 64-bit ('myenv': conda)",
   "language": "python",
   "name": "python3"
  },
  "language_info": {
   "codemirror_mode": {
    "name": "ipython",
    "version": 3
   },
   "file_extension": ".py",
   "mimetype": "text/x-python",
   "name": "python",
   "nbconvert_exporter": "python",
   "pygments_lexer": "ipython3",
   "version": "3.9.7"
  },
  "orig_nbformat": 4
 },
 "nbformat": 4,
 "nbformat_minor": 2
}
